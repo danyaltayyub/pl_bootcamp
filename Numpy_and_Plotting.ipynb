{
  "cells": [
    {
      "cell_type": "markdown",
      "metadata": {
        "id": "lKgcfOzT2XQ2"
      },
      "source": [
        "# Numpy and Matplotlib\n",
        "\n",
        "\n",
        "---\n",
        "\n",
        "\n",
        "\n",
        "\n",
        "**Numpy** is a numerical calculus and algebra package that is widely used, notably providing the *array* (vector/matrix format) type used in almost all numerical projects.  [Documentation](https://numpy.org/doc/stable/) and [Reference](https://numpy.org/doc/stable/reference/index.html)\n",
        "\n",
        "\n",
        "**Matplotlib** is a module for generating 2D and 3D graphics. [Documentation ](https://matplotlib.org/stable/contents.html)\n",
        "\n",
        "\n",
        "It is common to import them with the respective nicknames **np** and **plt** (for `matplotlib.pyplot`)."
      ]
    },
    {
      "cell_type": "code",
      "execution_count": 1,
      "metadata": {
        "id": "unaueIT12XQ2"
      },
      "outputs": [],
      "source": [
        "import numpy as np\n",
        "import matplotlib.pyplot as plt\n",
        "\n",
        "%matplotlib inline"
      ]
    },
    {
      "cell_type": "markdown",
      "metadata": {
        "id": "iazh6sbH2XQ2"
      },
      "source": [
        "The last line `%matplotlib inline` is a command for Jupyter to indicate that we want our figures in the notebook and not in a separate window."
      ]
    },
    {
      "cell_type": "markdown",
      "metadata": {
        "id": "zRDbJhHE2XQ2"
      },
      "source": [
        "## Numpy *arrays*\n",
        "\n",
        "In Numpy, the type *array* is used for vector, matrices, tensors (a matrix type also exists but is more seldomly used).\n",
        "\n",
        "Numpy arrays can be defined either directly from a list or outputted by a function.\n",
        "\n",
        "\n",
        "### One-dimensional arrays"
      ]
    },
    {
      "cell_type": "code",
      "execution_count": 8,
      "metadata": {
        "colab": {
          "base_uri": "https://localhost:8080/"
        },
        "id": "kRHgvkTx2XQ2",
        "outputId": "66b58fbe-4495-48da-e019-fbdde1cde075"
      },
      "outputs": [
        {
          "name": "stdout",
          "output_type": "stream",
          "text": [
            "[ 1.   2.5  5.  10. ] <class 'numpy.ndarray'>\n"
          ]
        }
      ],
      "source": [
        "x = np.array([1, 2.5, 5, 10])\n",
        "print(x,type(x))"
      ]
    },
    {
      "cell_type": "code",
      "execution_count": 14,
      "metadata": {
        "colab": {
          "base_uri": "https://localhost:8080/"
        },
        "id": "x7cZw-YD2XQ2",
        "outputId": "417d2b54-e260-4008-c578-d344ac0f3004"
      },
      "outputs": [
        {
          "name": "stdout",
          "output_type": "stream",
          "text": [
            "[0.00825399 0.41440953 0.20543473 0.20187254] <class 'numpy.ndarray'>\n"
          ]
        }
      ],
      "source": [
        "y = np.random.rand(4)\n",
        "print(y,type(y))"
      ]
    },
    {
      "cell_type": "markdown",
      "metadata": {
        "id": "fmMEkmeg2XQ2"
      },
      "source": [
        "## Plotting\n",
        "\n",
        "Visualizing the data is quite simple with pyplot:\n",
        "* Initialize a figure with  `plt.figure()`\n",
        "* Plot something with ... `plt.plot` (see the [documentation](https://matplotlib.org/stable/api/_as_gen/matplotlib.pyplot.html?highlight=pyplot#module-matplotlib.pyplot) )\n",
        "* Fix labels, titles, axes\n",
        "* Eventually save the result with `plt.savefig`\n",
        "* Show the figure with `plt.show()`"
      ]
    },
    {
      "cell_type": "code",
      "execution_count": null,
      "metadata": {
        "colab": {
          "base_uri": "https://localhost:8080/",
          "height": 472
        },
        "id": "s6JJME2X2XQ2",
        "outputId": "8862c32c-cd74-42a6-ee79-536a4d5da9a0"
      },
      "outputs": [],
      "source": [
        "plt.figure()\n",
        "\n",
        "plt.plot(x,y, 'g', label='y(x)')\n",
        "\n",
        "plt.legend(loc='lower right')\n",
        "plt.xlabel('x')\n",
        "plt.ylabel('y')\n",
        "plt.title('Sample Figure')\n",
        "plt.xlim([0, 10])\n",
        "plt.ylim([0, 1])\n",
        "plt.savefig('img/sample.png')\n",
        "plt.show()"
      ]
    },
    {
      "cell_type": "markdown",
      "metadata": {
        "id": "1Jf5vCvd2XQ2"
      },
      "source": [
        "## Matrices\n",
        "\n",
        "Matrices are simply 2D arrays. Since vectors and matrices share the same type, the notion of *shape* is very important."
      ]
    },
    {
      "cell_type": "code",
      "execution_count": 20,
      "metadata": {
        "colab": {
          "base_uri": "https://localhost:8080/"
        },
        "id": "G_B9Ye7t2XQ2",
        "outputId": "0aa2235a-e46b-44d0-80fd-132acff1bf3b"
      },
      "outputs": [
        {
          "name": "stdout",
          "output_type": "stream",
          "text": [
            "[[ 0.25  6.2   1.   10.  ]\n",
            " [12.    6.2   6.   -5.3 ]] <class 'numpy.ndarray'>\n"
          ]
        }
      ],
      "source": [
        "M = np.array([[0.25, 6.2, 1, 10],[12, 6.2, 6, -5.3]])\n",
        "print(M,type(M))"
      ]
    },
    {
      "cell_type": "code",
      "execution_count": 21,
      "metadata": {
        "colab": {
          "base_uri": "https://localhost:8080/"
        },
        "id": "i_jCRl4C2XQ2",
        "outputId": "c8c31d0a-2171-4204-d5a3-34da03114cce"
      },
      "outputs": [
        {
          "name": "stdout",
          "output_type": "stream",
          "text": [
            "[ 1.   2.5  5.  10. ] <class 'numpy.ndarray'>\n"
          ]
        }
      ],
      "source": [
        "print(x,type(x))"
      ]
    },
    {
      "cell_type": "markdown",
      "metadata": {
        "id": "sVs8yBNW2XQ2"
      },
      "source": [
        "* The `size` of an array is the number of elements while the `shape` gives how they are arranged."
      ]
    },
    {
      "cell_type": "code",
      "execution_count": 22,
      "metadata": {
        "colab": {
          "base_uri": "https://localhost:8080/"
        },
        "id": "MsUY7CpD2XQ3",
        "outputId": "7724baeb-4253-4062-c9a6-04ef4bb22d82"
      },
      "outputs": [
        {
          "name": "stdout",
          "output_type": "stream",
          "text": [
            "4\n",
            "8\n"
          ]
        }
      ],
      "source": [
        "print(x.size)  # or equivalently np.size(x)\n",
        "print(M.size)"
      ]
    },
    {
      "cell_type": "code",
      "execution_count": 23,
      "metadata": {
        "colab": {
          "base_uri": "https://localhost:8080/"
        },
        "id": "FAVksmcN2XQ3",
        "outputId": "acab5935-e968-4a68-a8f8-f0e5fd136446"
      },
      "outputs": [
        {
          "name": "stdout",
          "output_type": "stream",
          "text": [
            "(4,)\n",
            "(2, 4)\n"
          ]
        }
      ],
      "source": [
        "print(x.shape)  # or equivalently np.shape(x)\n",
        "print(M.shape)"
      ]
    },
    {
      "cell_type": "markdown",
      "metadata": {
        "id": "nekoGtED2XQ3"
      },
      "source": [
        "* The element access, assignment, type, copy is common and similar to the list type."
      ]
    },
    {
      "cell_type": "code",
      "execution_count": 24,
      "metadata": {
        "colab": {
          "base_uri": "https://localhost:8080/"
        },
        "id": "LT5Emiku2XQ6",
        "outputId": "5995e0c6-5877-40b6-f2e2-ce2324b59f86"
      },
      "outputs": [
        {
          "name": "stdout",
          "output_type": "stream",
          "text": [
            "[ 1.   2.5  5.  10. ]\n",
            "5.0 10.0\n",
            "[10.   5.   2.5  1. ]\n",
            "[ 6.1554  2.5     5.     10.    ]\n"
          ]
        }
      ],
      "source": [
        "print(x)\n",
        "print(x[2],x[-1])\n",
        "print(x[::-1])\n",
        "x[0] = 6.1554\n",
        "print(x)"
      ]
    },
    {
      "cell_type": "code",
      "execution_count": 25,
      "metadata": {
        "colab": {
          "base_uri": "https://localhost:8080/"
        },
        "id": "K0_nHhur2XQ6",
        "outputId": "73565736-1ee4-4a4e-cd9c-9b4d709e7d3a"
      },
      "outputs": [
        {
          "name": "stdout",
          "output_type": "stream",
          "text": [
            "[ 6.1554  2.5     5.     10.    ]\n",
            "[ 1.   2.5  5.  10. ]\n",
            "[ 6.1554  2.5     5.     10.    ]\n"
          ]
        }
      ],
      "source": [
        "v = x\n",
        "w = np.copy(x)\n",
        "print(v)\n",
        "x[0]=1\n",
        "print(v)\n",
        "print(w)"
      ]
    },
    {
      "cell_type": "code",
      "execution_count": 26,
      "metadata": {
        "colab": {
          "base_uri": "https://localhost:8080/"
        },
        "id": "xFDxAOqX2XQ6",
        "outputId": "a238a05c-b4b6-496f-e771-7a62defcfd15"
      },
      "outputs": [
        {
          "name": "stdout",
          "output_type": "stream",
          "text": [
            "[[ 0.25  6.2   1.   10.  ]\n",
            " [12.    6.2   6.   -5.3 ]]\n",
            "6.0 <class 'numpy.float64'>\n",
            "[12.   6.2  6.  -5.3] <class 'numpy.ndarray'> (4,)\n",
            "[12.   6.2  6.  -5.3]\n",
            "[ 0.25 12.  ]\n"
          ]
        }
      ],
      "source": [
        "print(M)\n",
        "print(M[1,2],type(M[1,2]))\n",
        "print(M[1,:],type(M[1,:]),M[1,:].shape)\n",
        "print(M[1])\n",
        "print(M[:,0])"
      ]
    },
    {
      "cell_type": "markdown",
      "metadata": {
        "id": "sl4uQbW72XQ7"
      },
      "source": [
        "Advanced access to content and modification is possible"
      ]
    },
    {
      "cell_type": "code",
      "execution_count": null,
      "metadata": {
        "id": "MDpWjitu2XQ7"
      },
      "outputs": [],
      "source": [
        "x = np.array([1, 2.5, 5, 10])\n",
        "ind = [0,2,3]\n",
        "print(x[ind])"
      ]
    },
    {
      "cell_type": "markdown",
      "metadata": {
        "id": "s0yr7IdD2XQ7"
      },
      "source": [
        "### Advanced array properties [*]\n",
        "\n",
        "\n",
        "An array has a *type* that can be accessed with <tt>dtype</tt>, it the combination of a base type (<tt>int, float, complex, bool, object,</tt> etc.) and a precision in bits (<tt>int64, int16, float128, complex128</tt>)"
      ]
    },
    {
      "cell_type": "code",
      "execution_count": null,
      "metadata": {
        "id": "SGvPVd0K2XQ7"
      },
      "outputs": [],
      "source": [
        "print(x.dtype)"
      ]
    },
    {
      "cell_type": "markdown",
      "metadata": {
        "id": "2tZHSH3O2XQ7"
      },
      "source": [
        "Array only accept they casting to their own type. However, the type of an array can be changed."
      ]
    },
    {
      "cell_type": "code",
      "execution_count": null,
      "metadata": {
        "id": "n2yn0vqB2XQ7"
      },
      "outputs": [],
      "source": [
        "try:\n",
        "    x[0] = 1 + 2.0j\n",
        "except Exception as e:\n",
        "    print(e)"
      ]
    },
    {
      "cell_type": "code",
      "execution_count": null,
      "metadata": {
        "id": "cRq-gHUb2XQ7"
      },
      "outputs": [],
      "source": [
        "y = x.astype(complex)\n",
        "y[0] = 1 + 2.0j\n",
        "print(y,type(y),y.dtype)"
      ]
    },
    {
      "cell_type": "markdown",
      "metadata": {
        "id": "sStimDpX2XQ7"
      },
      "source": [
        "## Numpy array generation\n",
        "\n",
        "See the corresponding [documentation](https://numpy.org/doc/stable/user/basics.creation.html)"
      ]
    },
    {
      "cell_type": "markdown",
      "metadata": {
        "id": "i33KKWdj2XQ7"
      },
      "source": [
        "### Number sequences\n",
        "\n",
        "\n",
        "`arange` returns an array of evenly spaced number from `start` to (at most) `stop` with a fixed jump `step`\n",
        "\n",
        "\n",
        "`linspace` returns an array of evenly spaced number from `start` to (exactly) `stop` with a fixed number of points `num`"
      ]
    },
    {
      "cell_type": "code",
      "execution_count": null,
      "metadata": {
        "id": "GOo6tnuZ2XQ7"
      },
      "outputs": [],
      "source": [
        "x = np.arange(0, 10, 1.5)\n",
        "print(x,type(x))"
      ]
    },
    {
      "cell_type": "code",
      "execution_count": null,
      "metadata": {
        "id": "GTWiLOAm2XQ7"
      },
      "outputs": [],
      "source": [
        "y = np.linspace(0, 10, 25)\n",
        "print(y,type(y))"
      ]
    },
    {
      "cell_type": "markdown",
      "metadata": {
        "id": "LT7MGT_l2XQ7"
      },
      "source": [
        "### Zeros and Ones\n",
        "\n",
        "\n",
        "`zeros` returns an array (of floats) of zeros  of the precised `shape`\n",
        "\n",
        "`ones`  returns an array (of floats) of ones  of the precised `shape`\n",
        "\n",
        "`eye`  returns a square 2D-array (of floats) with ones on the diagonal and zeros elsewhere  "
      ]
    },
    {
      "cell_type": "code",
      "execution_count": null,
      "metadata": {
        "id": "GUR966o92XQ7"
      },
      "outputs": [],
      "source": [
        "x = np.zeros(3)\n",
        "print(x,x.shape,type(x),x.dtype)\n",
        "\n",
        "x = np.zeros((3,))\n",
        "print(x,x.shape,type(x),x.dtype)"
      ]
    },
    {
      "cell_type": "code",
      "execution_count": null,
      "metadata": {
        "id": "kqBvQCsG2XQ8"
      },
      "outputs": [],
      "source": [
        "try:\n",
        "    x = np.zeros(3,3) # This causes an error as 3,3 is not a shape, it is (3,3) -> double parentheses\n",
        "except Exception as error:\n",
        "    print(error)\n",
        "\n",
        "print(x,x.shape,type(x),x.dtype)"
      ]
    },
    {
      "cell_type": "code",
      "execution_count": null,
      "metadata": {
        "id": "Ufvb-6x02XQ8"
      },
      "outputs": [],
      "source": [
        "x = np.zeros((3,3))\n",
        "print(x,x.shape,type(x),x.dtype)"
      ]
    },
    {
      "cell_type": "code",
      "execution_count": null,
      "metadata": {
        "id": "01PKofIh2XQ8"
      },
      "outputs": [],
      "source": [
        "y = np.ones(2)\n",
        "y"
      ]
    },
    {
      "cell_type": "code",
      "execution_count": null,
      "metadata": {
        "id": "HBqAyTxX2XQ8"
      },
      "outputs": [],
      "source": [
        "M = np.eye(3)\n",
        "print(M,M.shape,type(M),M.dtype)"
      ]
    },
    {
      "cell_type": "markdown",
      "metadata": {
        "id": "CHJC7-hq2XQ8"
      },
      "source": [
        "### Random data\n",
        "\n",
        "\n",
        "Random arrays can be generated by Numpy's [random](https://numpy.org/doc/stable/reference/random/index.html) module.\n",
        "\n",
        "\n",
        "`rand` returns an array (of floats) of uniformly distributed numbers in [0,1)  of the precised dimension\n",
        "\n",
        "`randn`  returns an array (of floats) of numbers from the normal distribution of the precised dimension\n",
        "\n",
        "`randint`  returns an array (of floats) of integers from the discrete uniform distribution"
      ]
    },
    {
      "cell_type": "code",
      "execution_count": null,
      "metadata": {
        "id": "F8kiIdHL2XQ8"
      },
      "outputs": [],
      "source": [
        "np.random.rand(5)"
      ]
    },
    {
      "cell_type": "code",
      "execution_count": null,
      "metadata": {
        "id": "9I2-fHlQ2XQ8"
      },
      "outputs": [],
      "source": [
        "np.random.randn(5,2)"
      ]
    },
    {
      "cell_type": "code",
      "execution_count": null,
      "metadata": {
        "id": "u_aPjP8c2XQ8"
      },
      "outputs": [],
      "source": [
        "np.random.randint(0,100,size=(10,))"
      ]
    },
    {
      "cell_type": "code",
      "execution_count": null,
      "metadata": {
        "id": "eZ_8khiF2XQ8"
      },
      "outputs": [],
      "source": [
        "a = np.random.randn(10000)\n",
        "plt.figure()\n",
        "plt.hist(a,40) # histogram of a with 40 bins\n",
        "plt.show()"
      ]
    },
    {
      "cell_type": "markdown",
      "metadata": {
        "id": "FWg-etH42XQ8"
      },
      "source": [
        "## Operations on Matrices and vectors\n"
      ]
    },
    {
      "cell_type": "code",
      "execution_count": null,
      "metadata": {
        "id": "MZPXhf1T2XQ9"
      },
      "outputs": [],
      "source": [
        "v = np.arange(0, 5)\n",
        "print(v)"
      ]
    },
    {
      "cell_type": "code",
      "execution_count": null,
      "metadata": {
        "id": "eBzK9wH82XQ9"
      },
      "outputs": [],
      "source": [
        "v * 2"
      ]
    },
    {
      "cell_type": "code",
      "execution_count": null,
      "metadata": {
        "id": "poLa7th82XQ9"
      },
      "outputs": [],
      "source": [
        "v + 2.5"
      ]
    },
    {
      "cell_type": "code",
      "execution_count": null,
      "metadata": {
        "id": "HVMK7bA92XQ9"
      },
      "outputs": [],
      "source": [
        "square = v**2\n",
        "root = np.sqrt(v)\n",
        "print(square,root)"
      ]
    },
    {
      "cell_type": "code",
      "execution_count": null,
      "metadata": {
        "id": "joJ4nmTE2XQ9"
      },
      "outputs": [],
      "source": [
        "plt.figure()\n",
        "plt.subplot(1,2,1)\n",
        "plt.plot(square,'g--', label='$y = x^2$')\n",
        "plt.legend(loc=0)\n",
        "plt.subplot(1,2,2)\n",
        "plt.plot(root, 'r*-', label='$y = \\sqrt{x}$')\n",
        "plt.legend(loc=2)\n",
        "plt.show()"
      ]
    },
    {
      "cell_type": "code",
      "execution_count": null,
      "metadata": {
        "id": "M2Gl65O12XQ9"
      },
      "outputs": [],
      "source": [
        "A = np.array([[n+m*10 for n in range(5)] for m in range(4)])\n",
        "print(A)"
      ]
    },
    {
      "cell_type": "code",
      "execution_count": null,
      "metadata": {
        "id": "rLCkj8WD2XQ9"
      },
      "outputs": [],
      "source": [
        "A*2"
      ]
    },
    {
      "cell_type": "code",
      "execution_count": null,
      "metadata": {
        "id": "dStHZPFI2XQ9"
      },
      "outputs": [],
      "source": [
        "A+2.5"
      ]
    },
    {
      "cell_type": "markdown",
      "metadata": {
        "id": "uAF7JIli2XQ9"
      },
      "source": [
        "Matrices can be visualized as images."
      ]
    },
    {
      "cell_type": "code",
      "execution_count": null,
      "metadata": {
        "id": "c2k5DVv52XQ9"
      },
      "outputs": [],
      "source": [
        "C = np.random.randn(100,100)\n",
        "plt.figure()\n",
        "plt.imshow(C)\n",
        "plt.colorbar()\n",
        "plt.show()"
      ]
    },
    {
      "cell_type": "markdown",
      "metadata": {
        "id": "TN9GfGB_2XQ9"
      },
      "source": [
        "## Matrix and vector operations\n",
        "\n",
        "\n",
        "\n",
        "*Warning:* Operation symbols `+   -   *  /` correspond to *elementwise* operations! To perform, matrix/vector multiplication, dedicated function must be used.\n",
        "\n",
        "### Elementwise operations"
      ]
    },
    {
      "cell_type": "code",
      "execution_count": null,
      "metadata": {
        "id": "N_YaH50w2XQ9"
      },
      "outputs": [],
      "source": [
        "A = np.array([[n+m*10 for n in range(5)] for m in range(4)])\n",
        "v = np.random.randint(0,5,5)\n",
        "print(A,v)"
      ]
    },
    {
      "cell_type": "code",
      "execution_count": null,
      "metadata": {
        "id": "n0zJinoi2XQ-"
      },
      "outputs": [],
      "source": [
        "A*A"
      ]
    },
    {
      "cell_type": "code",
      "execution_count": null,
      "metadata": {
        "id": "XFxlgINM2XQ-"
      },
      "outputs": [],
      "source": [
        "v*v"
      ]
    },
    {
      "cell_type": "code",
      "execution_count": null,
      "metadata": {
        "id": "wklWWX_u2XQ-"
      },
      "outputs": [],
      "source": [
        "A*v"
      ]
    },
    {
      "cell_type": "markdown",
      "metadata": {
        "id": "9Xlm1FmM2XQ-"
      },
      "source": [
        "### Transposition\n",
        "\n",
        "It can be useful to transpose, it is simply done by suffixing `.T` (or equivalently using the function `np.transpose`). Similarly `.H` is the Hermitian conjugate,  `.imag`  `.real` are the real and imaginary parts and  `.abs` the modulus (their *full* versions are respectively `np.conjugate`, `np.imag`, etc.)"
      ]
    },
    {
      "cell_type": "code",
      "execution_count": null,
      "metadata": {
        "id": "umz_Ehz52XQ-"
      },
      "outputs": [],
      "source": [
        "print(A,A.shape)\n",
        "print(A.T,A.T.shape)"
      ]
    },
    {
      "cell_type": "markdown",
      "metadata": {
        "id": "cy_pOmRk2XQ-"
      },
      "source": [
        "### Matrix/vector operations\n",
        "\n",
        "$y=Av$ can be obtained by `y = A.dot(v)` (or equivalently `y = np.dot(A,v)`). This methods works for array with *compatible shape* (matrix-matrix, matrix-vector, vector-matrix, vector-vector, etc).\n"
      ]
    },
    {
      "cell_type": "code",
      "execution_count": null,
      "metadata": {
        "id": "UQHZOrtG2XQ-"
      },
      "outputs": [],
      "source": [
        "y = np.dot(A,v)\n",
        "print(A,A.shape,v,v.shape)\n",
        "print(y,type(y),y.shape)"
      ]
    },
    {
      "cell_type": "markdown",
      "metadata": {
        "id": "6xhFfTYy2XQ-"
      },
      "source": [
        "Example of vector-vector multiplication i.e. a scalar product"
      ]
    },
    {
      "cell_type": "code",
      "execution_count": null,
      "metadata": {
        "id": "e8CrTW4A2XQ-"
      },
      "outputs": [],
      "source": [
        "s = v.dot(v)\n",
        "print(v, s, type(s))"
      ]
    },
    {
      "cell_type": "markdown",
      "metadata": {
        "id": "P0E-hALt2XQ-"
      },
      "source": [
        "Example of non-compatible shapes"
      ]
    },
    {
      "cell_type": "code",
      "execution_count": null,
      "metadata": {
        "id": "UZZ8NMVW2XQ-"
      },
      "outputs": [],
      "source": [
        "try:\n",
        "    A2 = np.dot(A,A)\n",
        "except Exception as error:\n",
        "    print(error)"
      ]
    },
    {
      "cell_type": "code",
      "execution_count": null,
      "metadata": {
        "id": "0i5LYTSe2XQ-"
      },
      "outputs": [],
      "source": [
        "A3 = np.dot(A,A.T)\n",
        "print(A3,A3.shape)"
      ]
    },
    {
      "cell_type": "markdown",
      "metadata": {
        "id": "hZxDcXZX2XQ_"
      },
      "source": [
        "From a vector $v$, one can form the matrix $P=v v^T$ by `A=v.outer(v)` (or equivalently `np.outer(v,v)`)"
      ]
    },
    {
      "cell_type": "code",
      "execution_count": null,
      "metadata": {
        "id": "h4t-f2g22XQ_"
      },
      "outputs": [],
      "source": [
        "P = np.outer(v,v)\n",
        "print(P)"
      ]
    },
    {
      "cell_type": "markdown",
      "metadata": {
        "id": "55DWBRmt2XQ_"
      },
      "source": [
        "### Useful Functions\n",
        "\n",
        "See the Documentation on [arrays](https://numpy.org/doc/stable/reference/arrays.ndarray.html)  and  [array creation](https://numpy.org/doc/stable/reference/routines.array-creation.html).\n",
        "\n",
        "*Warning:* Modificators such as transpose, reshape, etc. do not modify the matrix, if you want to keep the result of the operation, you have to assign a variable to it. The notable exceptions are precised as *in-place* in the documentation."
      ]
    },
    {
      "cell_type": "code",
      "execution_count": null,
      "metadata": {
        "id": "We9vfH1C2XQ_"
      },
      "outputs": [],
      "source": [
        "A.reshape((2,10))"
      ]
    },
    {
      "cell_type": "code",
      "execution_count": null,
      "metadata": {
        "id": "aoj2SXLo2XQ_"
      },
      "outputs": [],
      "source": [
        "print(A)"
      ]
    },
    {
      "cell_type": "code",
      "execution_count": null,
      "metadata": {
        "id": "LQ-9i-rq2XQ_"
      },
      "outputs": [],
      "source": [
        "B = A.flatten()\n",
        "print(B)"
      ]
    },
    {
      "cell_type": "code",
      "execution_count": null,
      "metadata": {
        "id": "1VWSyGE42XQ_"
      },
      "outputs": [],
      "source": [
        "print(A.trace(),A.max(),A.argmax())"
      ]
    },
    {
      "cell_type": "markdown",
      "metadata": {
        "id": "rk181jKS2XQ_"
      },
      "source": [
        "Some functions may be taken with respects to the columns with <tt>axis=0</tt> or lines with <tt>axis=1</tt>."
      ]
    },
    {
      "cell_type": "code",
      "execution_count": null,
      "metadata": {
        "id": "589Y0mZ62XQ_"
      },
      "outputs": [],
      "source": [
        "print(A.mean(),A.mean(axis=0),A.mean(axis=1))"
      ]
    },
    {
      "cell_type": "code",
      "execution_count": null,
      "metadata": {
        "id": "IuqabDcK2XQ_"
      },
      "outputs": [],
      "source": [
        "print(A.var(),A.var(axis=0),A.std(axis=1))"
      ]
    },
    {
      "cell_type": "markdown",
      "metadata": {
        "id": "nv7VxsaQ2XQ_"
      },
      "source": [
        "### Repetition, concatenation"
      ]
    },
    {
      "cell_type": "code",
      "execution_count": null,
      "metadata": {
        "id": "LsCaJe-l2XQ_"
      },
      "outputs": [],
      "source": [
        "a = np.array([[1, 2], [3, 4]])\n",
        "a"
      ]
    },
    {
      "cell_type": "code",
      "execution_count": null,
      "metadata": {
        "id": "plAaHAda2XQ_"
      },
      "outputs": [],
      "source": [
        "b = np.array([[5, 6]])\n",
        "b"
      ]
    },
    {
      "cell_type": "code",
      "execution_count": null,
      "metadata": {
        "id": "_g-T2OYx2XQ_"
      },
      "outputs": [],
      "source": [
        "np.concatenate((a, b), axis=0)"
      ]
    },
    {
      "cell_type": "code",
      "execution_count": null,
      "metadata": {
        "id": "CgcJwCP72XRA"
      },
      "outputs": [],
      "source": [
        "np.concatenate((a, b.T), axis=1)"
      ]
    },
    {
      "cell_type": "code",
      "execution_count": null,
      "metadata": {
        "id": "FXh_Eiu92XRA"
      },
      "outputs": [],
      "source": [
        "np.vstack((a,b))"
      ]
    },
    {
      "cell_type": "code",
      "execution_count": null,
      "metadata": {
        "id": "UoNSPRDW2XRA"
      },
      "outputs": [],
      "source": [
        "np.hstack((a,b.T))"
      ]
    },
    {
      "cell_type": "markdown",
      "metadata": {
        "id": "2aiNDqrp2XRA"
      },
      "source": [
        "### Iterating on arrays"
      ]
    },
    {
      "cell_type": "code",
      "execution_count": null,
      "metadata": {
        "id": "_qZoluh-2XRA"
      },
      "outputs": [],
      "source": [
        "v = np.array([1,2,3,4])\n",
        "\n",
        "for element in v:\n",
        "    print(element)"
      ]
    },
    {
      "cell_type": "code",
      "execution_count": null,
      "metadata": {
        "id": "ztsVTBHu2XRA"
      },
      "outputs": [],
      "source": [
        "a = np.array([[1,2], [3,4]])\n",
        "\n",
        "for row in a:\n",
        "    print(\"row\", row)\n",
        "\n",
        "    for element in row:\n",
        "        print(element)"
      ]
    },
    {
      "cell_type": "markdown",
      "metadata": {
        "id": "O_eTIjY62XRA"
      },
      "source": [
        "<tt>enumerate</tt> can be used to get indexes along with elements."
      ]
    },
    {
      "cell_type": "code",
      "execution_count": null,
      "metadata": {
        "id": "0N2SGShJ2XRA"
      },
      "outputs": [],
      "source": [
        "for row_idx, row in enumerate(a):\n",
        "    print(\"row_idx\", row_idx, \"row\", row)\n",
        "\n",
        "    for col_idx, element in enumerate(row):\n",
        "        print(\"col_idx\", col_idx, \"element\", element)\n",
        "\n",
        "        # update the matrix a: square each element\n",
        "        a[row_idx, col_idx] = element ** 2"
      ]
    },
    {
      "cell_type": "code",
      "execution_count": null,
      "metadata": {
        "id": "zLijJ7px2XRA"
      },
      "outputs": [],
      "source": [
        "a"
      ]
    },
    {
      "cell_type": "markdown",
      "metadata": {
        "id": "s3ZBMNIR2XRA"
      },
      "source": [
        "# 3- Linear Algebra\n",
        "\n",
        "\n",
        "Numpy comes with an efficient linear algebra module named `linalg` (see the [documentation](https://numpy.org/doc/stable/reference/routines.linalg.html) ). As in many languages, the more vectorized the operations are, the more efficient.\n",
        "\n",
        "## Decompositions\n",
        "\n",
        "\n",
        "* *QR:* `linalg.qr` Factor the matrix $A$ as $QR$, where $Q$ is orthonormal and $R$ is upper-triangular.\n",
        "* *Cholesky:* `linalg.cholesky` Return the Cholesky decomposition, $L L^H$, of the square matrix $A$, where $L$ is lower-triangular. $A$ must be Hermitian and positive-definite. Only $L$ is actually returned.\n",
        "* *SVD:* `linalg.svd`  Factors the matrix $A$ as $U  \\text{diag}(s) V$, where $U$ and $V$ are unitary and $s$ is a 1-d array of $A$‘s singular values.\n",
        "\n"
      ]
    },
    {
      "cell_type": "code",
      "execution_count": null,
      "metadata": {
        "id": "8Oi-KLB32XRB"
      },
      "outputs": [],
      "source": [
        "A = np.random.randn(3,2)"
      ]
    },
    {
      "cell_type": "code",
      "execution_count": null,
      "metadata": {
        "id": "nvzlnYfo2XRB"
      },
      "outputs": [],
      "source": [
        "Q, R = np.linalg.qr(A)\n",
        "print(A)\n",
        "print(Q)\n",
        "print(R)"
      ]
    },
    {
      "cell_type": "code",
      "execution_count": null,
      "metadata": {
        "id": "ChOogmeI2XRB"
      },
      "outputs": [],
      "source": [
        "np.allclose(A, np.dot(Q, R)) # check that A=QR"
      ]
    },
    {
      "cell_type": "code",
      "execution_count": null,
      "metadata": {
        "id": "5a9xOoMs2XRB"
      },
      "outputs": [],
      "source": [
        "U, s, V = np.linalg.svd(A)\n",
        "print(U.shape, V.shape, s.shape)"
      ]
    },
    {
      "cell_type": "code",
      "execution_count": null,
      "metadata": {
        "id": "JzMubhpj2XRB"
      },
      "outputs": [],
      "source": [
        "S = np.zeros(A.shape)\n",
        "S[:A.shape[1], :A.shape[1]] = np.diag(s)\n",
        "np.allclose(A, np.dot(U, np.dot(S, V)))"
      ]
    },
    {
      "cell_type": "markdown",
      "metadata": {
        "id": "wt4xInlT2XRB"
      },
      "source": [
        "By default, $U$ and $V$ have the shapes $(M, M)$ and $(N, N)$  respectively if $A$ is $(M,N)$. If `full_matrices=False` is passed, the shapes are $(M, K)$ and $(K, N)$, respectively, where $K = min(M, N)$."
      ]
    },
    {
      "cell_type": "code",
      "execution_count": null,
      "metadata": {
        "id": "sf1C8YL72XRB"
      },
      "outputs": [],
      "source": [
        "U, s, V = np.linalg.svd(A, full_matrices=False)\n",
        "print(U.shape, V.shape, s.shape)"
      ]
    },
    {
      "cell_type": "code",
      "execution_count": null,
      "metadata": {
        "id": "Tod0ybiE2XRB"
      },
      "outputs": [],
      "source": [
        "S = np.diag(s)\n",
        "np.allclose(A, np.dot(U, np.dot(S, V)))"
      ]
    },
    {
      "cell_type": "markdown",
      "metadata": {
        "id": "zHDPRFET2XRB"
      },
      "source": [
        "## Eigenvalues\n",
        "\n",
        "`linalg.eig` compute the eigenvalues and right eigenvectors of a square array and is the main function (`linalg.eigvals` computes eigenvalues of a non-symmetric array, `linalg.eigh` returns eigenvalues and eigenvectors of a symmetric or Hermitian array)."
      ]
    },
    {
      "cell_type": "code",
      "execution_count": null,
      "metadata": {
        "id": "pqYgBN2x2XRB"
      },
      "outputs": [],
      "source": [
        "A = np.array([[1, -1], [1, 1]])\n",
        "print(A)\n",
        "l, v = np.linalg.eig(A)\n",
        "print(l); print(v)"
      ]
    },
    {
      "cell_type": "code",
      "execution_count": null,
      "metadata": {
        "id": "HzwoSkAi2XRB"
      },
      "outputs": [],
      "source": [
        "A.dot(v[:,0])"
      ]
    },
    {
      "cell_type": "markdown",
      "metadata": {
        "id": "ioPHfug72XRB"
      },
      "source": [
        "We can check that $Ax= \\lambda x$."
      ]
    },
    {
      "cell_type": "code",
      "execution_count": null,
      "metadata": {
        "id": "G6nkQfZe2XRC"
      },
      "outputs": [],
      "source": [
        "np.allclose(A.dot(v[:,0]),l[0]*v[:,0])"
      ]
    },
    {
      "cell_type": "markdown",
      "metadata": {
        "id": "u5RLMxFq2XRC"
      },
      "source": [
        "## Norms and other numbers\n",
        "\n",
        "The function `linalg.norm` is able to return one of eight different matrix norms, or one of an infinite number of vector norms (described below), depending on the value of the `ord` parameter.\n",
        "\n",
        "<table border=\"1\" class=\"docutils\">\n",
        "<colgroup>\n",
        "<col width=\"8%\" />\n",
        "<col width=\"47%\" />\n",
        "<col width=\"44%\" />\n",
        "</colgroup>\n",
        "<thead valign=\"bottom\">\n",
        "<tr class=\"row-odd\"><th class=\"head\">ord</th>\n",
        "<th class=\"head\">norm for matrices</th>\n",
        "<th class=\"head\">norm for vectors</th>\n",
        "</tr>\n",
        "</thead>\n",
        "<tbody valign=\"top\">\n",
        "<tr class=\"row-even\"><td>None</td>\n",
        "<td>Frobenius norm</td>\n",
        "<td>2-norm</td>\n",
        "</tr>\n",
        "<tr class=\"row-odd\"><td>&#8216;fro&#8217;</td>\n",
        "<td>Frobenius norm</td>\n",
        "<td>&#8211;</td>\n",
        "</tr>\n",
        "<tr class=\"row-even\"><td>&#8216;nuc&#8217;</td>\n",
        "<td>nuclear norm</td>\n",
        "<td>&#8211;</td>\n",
        "</tr>\n",
        "<tr class=\"row-odd\"><td>inf</td>\n",
        "<td>max(sum(abs(x), axis=1))</td>\n",
        "<td>max(abs(x))</td>\n",
        "</tr>\n",
        "<tr class=\"row-even\"><td>-inf</td>\n",
        "<td>min(sum(abs(x), axis=1))</td>\n",
        "<td>min(abs(x))</td>\n",
        "</tr>\n",
        "<tr class=\"row-odd\"><td>0</td>\n",
        "<td>&#8211;</td>\n",
        "<td>sum(x != 0)</td>\n",
        "</tr>\n",
        "<tr class=\"row-even\"><td>1</td>\n",
        "<td>max(sum(abs(x), axis=0))</td>\n",
        "<td>as below</td>\n",
        "</tr>\n",
        "<tr class=\"row-odd\"><td>-1</td>\n",
        "<td>min(sum(abs(x), axis=0))</td>\n",
        "<td>as below</td>\n",
        "</tr>\n",
        "<tr class=\"row-even\"><td>2</td>\n",
        "<td>2-norm (largest sing. value)</td>\n",
        "<td>as below</td>\n",
        "</tr>\n",
        "<tr class=\"row-odd\"><td>-2</td>\n",
        "<td>smallest singular value</td>\n",
        "<td>as below</td>\n",
        "</tr>\n",
        "<tr class=\"row-even\"><td>other</td>\n",
        "<td>&#8211;</td>\n",
        "<td>sum(abs(x)$^{ord}$)$^{(1./ord)}$</td>\n",
        "</tr>\n",
        "</tbody>\n",
        "</table>"
      ]
    },
    {
      "cell_type": "code",
      "execution_count": null,
      "metadata": {
        "id": "eBG0B7332XRC"
      },
      "outputs": [],
      "source": [
        "a = np.arange(9) - 4\n",
        "B = a.reshape((3, 3))"
      ]
    },
    {
      "cell_type": "code",
      "execution_count": null,
      "metadata": {
        "id": "y1VLo15C2XRC"
      },
      "outputs": [],
      "source": [
        "print(a)\n",
        "print(\"none \\t\",np.linalg.norm(a))\n",
        "print(\"2 \\t\",np.linalg.norm(a,ord=2))\n",
        "print(\"1 \\t\",np.linalg.norm(a,ord=1))\n",
        "print(\"inf \\t\",np.linalg.norm(a,ord=np.inf))\n",
        "print(\"0 \\t\",np.linalg.norm(a,ord=0))"
      ]
    },
    {
      "cell_type": "code",
      "execution_count": null,
      "metadata": {
        "id": "7hYDYq3Z2XRC"
      },
      "outputs": [],
      "source": [
        "print(B)\n",
        "print(\"none \\t\",np.linalg.norm(B))\n",
        "print(\"2 \\t\",np.linalg.norm(B,ord=2))\n",
        "print(\"1 \\t\",np.linalg.norm(B,ord=1))\n",
        "print(\"inf \\t\",np.linalg.norm(B,ord=np.inf))\n",
        "print(\"fro \\t\",np.linalg.norm(B,ord='fro'))"
      ]
    },
    {
      "cell_type": "markdown",
      "metadata": {
        "id": "OKxLlJN32XRC"
      },
      "source": [
        "Other useful function include the condition number `linalg.cond`, or rank `linalg.matrix_rank` ."
      ]
    },
    {
      "cell_type": "code",
      "execution_count": null,
      "metadata": {
        "id": "s7GoOQ2R2XRC"
      },
      "outputs": [],
      "source": [
        "A = np.array([[1, 0, -1], [0, 1, 0], [1, 0, 1]]) # some matrix\n",
        "I = np.eye(4) # identity\n",
        "Def =  np.eye(4); Def[0,0]=0 # rank deficient"
      ]
    },
    {
      "cell_type": "code",
      "execution_count": null,
      "metadata": {
        "id": "9weCAiNr2XRC"
      },
      "outputs": [],
      "source": [
        "print(np.linalg.cond(A), np.linalg.cond(I))"
      ]
    },
    {
      "cell_type": "code",
      "execution_count": null,
      "metadata": {
        "id": "cqfV1XbW2XRC"
      },
      "outputs": [],
      "source": [
        "np.linalg.cond(Def)"
      ]
    },
    {
      "cell_type": "code",
      "execution_count": null,
      "metadata": {
        "id": "KJy2In622XRC"
      },
      "outputs": [],
      "source": [
        "print(np.linalg.matrix_rank(A), np.linalg.matrix_rank(I), np.linalg.matrix_rank(Def))"
      ]
    }
  ],
  "metadata": {
    "colab": {
      "provenance": []
    },
    "kernelspec": {
      "display_name": "Python 3",
      "language": "python",
      "name": "python3"
    },
    "language_info": {
      "codemirror_mode": {
        "name": "ipython",
        "version": 3
      },
      "file_extension": ".py",
      "mimetype": "text/x-python",
      "name": "python",
      "nbconvert_exporter": "python",
      "pygments_lexer": "ipython3",
      "version": "3.8.10"
    },
    "varInspector": {
      "cols": {
        "lenName": 16,
        "lenType": 16,
        "lenVar": 40
      },
      "kernels_config": {
        "python": {
          "delete_cmd_postfix": "",
          "delete_cmd_prefix": "del ",
          "library": "var_list.py",
          "varRefreshCmd": "print(var_dic_list())"
        },
        "r": {
          "delete_cmd_postfix": ") ",
          "delete_cmd_prefix": "rm(",
          "library": "var_list.r",
          "varRefreshCmd": "cat(var_dic_list()) "
        }
      },
      "types_to_exclude": [
        "module",
        "function",
        "builtin_function_or_method",
        "instance",
        "_Feature"
      ],
      "window_display": false
    }
  },
  "nbformat": 4,
  "nbformat_minor": 0
}
